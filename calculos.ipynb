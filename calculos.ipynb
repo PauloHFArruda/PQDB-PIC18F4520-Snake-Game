{
 "cells": [
  {
   "cell_type": "markdown",
   "metadata": {},
   "source": [
    "# Notas"
   ]
  },
  {
   "cell_type": "code",
   "execution_count": 21,
   "metadata": {},
   "outputs": [],
   "source": [
    "notes_defines = \"\"\"#define NOTE_F4  349\n",
    "#define NOTE_FS4 370\n",
    "#define NOTE_G4  392\n",
    "#define NOTE_GS4 415\n",
    "#define NOTE_A4  440\n",
    "#define NOTE_AS4 466\n",
    "#define NOTE_B4  494\n",
    "#define NOTE_C5  523\n",
    "#define NOTE_CS5 554\n",
    "#define NOTE_D5  587\n",
    "#define NOTE_DS5 622\n",
    "#define NOTE_E5  659\n",
    "#define NOTE_F5  698\n",
    "#define NOTE_FS5 740\n",
    "#define NOTE_G5  784\n",
    "#define NOTE_GS5 831\n",
    "#define NOTE_A5  880\n",
    "#define NOTE_AS5 932\n",
    "#define NOTE_B5  988\n",
    "#define NOTE_C6  1047\n",
    "#define NOTE_CS6 1109\n",
    "#define NOTE_D6  1175\n",
    "#define NOTE_DS6 1245\n",
    "#define NOTE_E6  1319\n",
    "#define NOTE_F6  1397\n",
    "#define NOTE_FS6 1480\n",
    "#define NOTE_G6  1568\n",
    "#define NOTE_GS6 1661\n",
    "#define NOTE_A6  1760\n",
    "#define REST 0\"\"\"\n",
    "\n",
    "notes = {i.split()[1]:int(i.split()[2]) for i in notes_defines.split('\\n')}"
   ]
  },
  {
   "cell_type": "code",
   "execution_count": 22,
   "metadata": {},
   "outputs": [
    {
     "name": "stderr",
     "output_type": "stream",
     "text": [
      "<ipython-input-22-9a37bf0914ef>:6: RuntimeWarning: invalid value encountered in true_divide\n",
      "  scaled = np.int16(data/np.max(np.abs(data)) * 32767)\n"
     ]
    }
   ],
   "source": [
    "import numpy as np\n",
    "from scipy.io.wavfile import write\n",
    "\n",
    "for note, freq in notes.items():\n",
    "    data = np.sin(freq*np.linspace(0, 2*np.pi, 44100))\n",
    "    scaled = np.int16(data/np.max(np.abs(data)) * 32767)\n",
    "    write(f'PythonSerialController/sounds/{note}.wav', 44100, scaled)"
   ]
  },
  {
   "cell_type": "code",
   "execution_count": 23,
   "metadata": {},
   "outputs": [],
   "source": [
    "import winsound\n",
    "\n",
    "winsound.PlaySound('PythonSerialController/sounds/NOTE_A5.wav', winsound.SND_FILENAME)"
   ]
  },
  {
   "cell_type": "markdown",
   "metadata": {},
   "source": [
    "# Melodias"
   ]
  },
  {
   "cell_type": "code",
   "execution_count": 24,
   "metadata": {},
   "outputs": [],
   "source": [
    "pacman_melody = \"\"\"NOTE_B4, 16, NOTE_B5, 16, NOTE_FS5, 16, NOTE_DS5, 16,\n",
    "  NOTE_B5, 32, NOTE_FS5, -16, NOTE_DS5, 8, NOTE_C5, 16,\n",
    "  NOTE_C6, 16, NOTE_G6, 16, NOTE_E6, 16, NOTE_C6, 32, NOTE_G6, -16, NOTE_E6, 8,\n",
    "  NOTE_B4, 16,  NOTE_B5, 16,  NOTE_FS5, 16,   NOTE_DS5, 16,  NOTE_B5, 32, \n",
    "  NOTE_FS5, -16, NOTE_DS5, 8,  NOTE_DS5, 32, NOTE_E5, 32,  NOTE_F5, 32,\n",
    "  NOTE_F5, 32,  NOTE_FS5, 32,  NOTE_G5, 32,  NOTE_G5, 32, NOTE_GS5, 32,  NOTE_A5, 16, NOTE_B5, 8\"\"\".replace('\\n', '').replace(' ', '').split(',')"
   ]
  },
  {
   "cell_type": "code",
   "execution_count": 25,
   "metadata": {},
   "outputs": [],
   "source": [
    "tetris_melody = \"\"\"NOTE_E5, 4,  NOTE_B4,8,  NOTE_C5,8,  NOTE_D5,4,  NOTE_C5,8,  NOTE_B4,8,\n",
    "  NOTE_A4, 4,  NOTE_A4,8,  NOTE_C5,8,  NOTE_E5,4,  NOTE_D5,8,  NOTE_C5,8,\n",
    "  NOTE_B4, -4,  NOTE_C5,8,  NOTE_D5,4,  NOTE_E5,4,\n",
    "  NOTE_C5, 4,  NOTE_A4,4,  NOTE_A4,8,  NOTE_A4,4,  NOTE_B4,8,  NOTE_C5,8,\n",
    "\n",
    "  NOTE_D5, -4,  NOTE_F5,8,  NOTE_A5,4,  NOTE_G5,8,  NOTE_F5,8,\n",
    "  NOTE_E5, -4,  NOTE_C5,8,  NOTE_E5,4,  NOTE_D5,8,  NOTE_C5,8,\n",
    "  NOTE_B4, 4,  NOTE_B4,8,  NOTE_C5,8,  NOTE_D5,4,  NOTE_E5,4,\n",
    "  NOTE_C5, 4,  NOTE_A4,4,  NOTE_A4,4, REST, 4,\n",
    "\n",
    "  NOTE_E5, 4,  NOTE_B4,8,  NOTE_C5,8,  NOTE_D5,4,  NOTE_C5,8,  NOTE_B4,8,\n",
    "  NOTE_A4, 4,  NOTE_A4,8,  NOTE_C5,8,  NOTE_E5,4,  NOTE_D5,8,  NOTE_C5,8,\n",
    "  NOTE_B4, -4,  NOTE_C5,8,  NOTE_D5,4,  NOTE_E5,4,\n",
    "  NOTE_C5, 4,  NOTE_A4,4,  NOTE_A4,8,  NOTE_A4,4,  NOTE_B4,8,  NOTE_C5,8,\n",
    "\n",
    "  NOTE_D5, -4,  NOTE_F5,8,  NOTE_A5,4,  NOTE_G5,8,  NOTE_F5,8,\n",
    "  NOTE_E5, -4,  NOTE_C5,8,  NOTE_E5,4,  NOTE_D5,8,  NOTE_C5,8,\n",
    "  NOTE_B4, 4,  NOTE_B4,8,  NOTE_C5,8,  NOTE_D5,4,  NOTE_E5,4,\n",
    "  NOTE_C5, 4,  NOTE_A4,4,  NOTE_A4,4, REST, 4,\n",
    "  \n",
    "\n",
    "  NOTE_E5,2,  NOTE_C5,2,\n",
    "  NOTE_D5,2,   NOTE_B4,2,\n",
    "  NOTE_C5,2,   NOTE_A4,2,\n",
    "  NOTE_GS4,2,  NOTE_B4,4,  REST,8, \n",
    "  NOTE_E5,2,   NOTE_C5,2,\n",
    "  NOTE_D5,2,   NOTE_B4,2,\n",
    "  NOTE_C5,4,   NOTE_E5,4,  NOTE_A5,2,\n",
    "  NOTE_GS5,2\"\"\".replace('\\n', '').replace(' ', '').split(',')"
   ]
  },
  {
   "cell_type": "code",
   "execution_count": 26,
   "metadata": {},
   "outputs": [],
   "source": [
    "sw_melody = \"\"\"NOTE_AS4,8, NOTE_AS4,8, NOTE_AS4,8,\n",
    "  NOTE_F5,2, NOTE_C6,2,\n",
    "  NOTE_AS5,8, NOTE_A5,8, NOTE_G5,8, NOTE_F6,2, NOTE_C6,4,  \n",
    "  NOTE_AS5,8, NOTE_A5,8, NOTE_G5,8, NOTE_F6,2, NOTE_C6,4,  \n",
    "  NOTE_AS5,8, NOTE_A5,8, NOTE_AS5,8, NOTE_G5,2, NOTE_C5,8, NOTE_C5,8, NOTE_C5,8,\n",
    "  NOTE_F5,2, NOTE_C6,2,\n",
    "  NOTE_AS5,8, NOTE_A5,8, NOTE_G5,8, NOTE_F6,2, NOTE_C6,4,  \n",
    "  \n",
    "  NOTE_AS5,8, NOTE_A5,8, NOTE_G5,8, NOTE_F6,2, NOTE_C6,4, \n",
    "  NOTE_AS5,8, NOTE_A5,8, NOTE_AS5,8, NOTE_G5,2, NOTE_C5,-8, NOTE_C5,16, \n",
    "  NOTE_D5,-4, NOTE_D5,8, NOTE_AS5,8, NOTE_A5,8, NOTE_G5,8, NOTE_F5,8,\n",
    "  NOTE_F5,8, NOTE_G5,8, NOTE_A5,8, NOTE_G5,4, NOTE_D5,8, NOTE_E5,4,NOTE_C5,-8, NOTE_C5,16,\n",
    "  NOTE_D5,-4, NOTE_D5,8, NOTE_AS5,8, NOTE_A5,8, NOTE_G5,8, NOTE_F5,8,\n",
    "  \n",
    "  NOTE_C6,-8, NOTE_G5,16, NOTE_G5,2, REST,8, NOTE_C5,8,\n",
    "  NOTE_D5,-4, NOTE_D5,8, NOTE_AS5,8, NOTE_A5,8, NOTE_G5,8, NOTE_F5,8,\n",
    "  NOTE_F5,8, NOTE_G5,8, NOTE_A5,8, NOTE_G5,4, NOTE_D5,8, NOTE_E5,4,NOTE_C6,-8, NOTE_C6,16,\n",
    "  NOTE_F6,4, NOTE_DS6,8, NOTE_CS6,4, NOTE_C6,8, NOTE_AS5,4, NOTE_GS5,8, NOTE_G5,4, NOTE_F5,8,\n",
    "  NOTE_C6,1\"\"\".replace('\\n', '').replace(' ', '').split(',')"
   ]
  },
  {
   "cell_type": "markdown",
   "metadata": {},
   "source": [
    "# Teste das melodias"
   ]
  },
  {
   "cell_type": "code",
   "execution_count": 27,
   "metadata": {},
   "outputs": [],
   "source": [
    "import time\n",
    "import pygame as pg\n",
    "\n",
    "pg.init()\n",
    "pg.mixer.init()\n",
    "time.sleep(1)\n",
    "\n",
    "sounds = {note: pg.mixer.Sound(f'PythonSerialController/sounds/{note}.wav') for note in notes.keys()}\n",
    "\n",
    "def melody_test(melody, speed):\n",
    "    wholenote = (60000 * 4) / speed\n",
    "\n",
    "    for note, divider in zip(melody[::2], map(int, melody[1::2])):\n",
    "        noteDuration = (wholenote) / abs(divider)\n",
    "        if divider < 0:\n",
    "            noteDuration *= 1.5\n",
    "        \n",
    "        current_sound = sounds[note]\n",
    "        current_sound.play()\n",
    "        time.sleep(0.85*noteDuration/1000)\n",
    "        current_sound.stop()\n",
    "        time.sleep(0.1*noteDuration/1000)"
   ]
  },
  {
   "cell_type": "code",
   "execution_count": 28,
   "metadata": {},
   "outputs": [],
   "source": [
    "melody_test(pacman_melody, 100)"
   ]
  },
  {
   "cell_type": "code",
   "execution_count": 29,
   "metadata": {},
   "outputs": [],
   "source": [
    "melody_test(tetris_melody, 125)"
   ]
  },
  {
   "cell_type": "code",
   "execution_count": 30,
   "metadata": {},
   "outputs": [],
   "source": [
    "melody_test(sw_melody, 100)"
   ]
  },
  {
   "cell_type": "code",
   "execution_count": 31,
   "metadata": {},
   "outputs": [],
   "source": [
    "import json\n",
    "\n",
    "with open('PythonSerialController/notes.json', 'w') as f:\n",
    "    json.dump(notes, f)"
   ]
  },
  {
   "cell_type": "code",
   "execution_count": 32,
   "metadata": {},
   "outputs": [
    {
     "name": "stdout",
     "output_type": "stream",
     "text": [
      "{'NOTE_F4': 349, 'NOTE_FS4': 370, 'NOTE_G4': 392, 'NOTE_GS4': 415, 'NOTE_A4': 440, 'NOTE_AS4': 466, 'NOTE_B4': 494, 'NOTE_C5': 523, 'NOTE_CS5': 554, 'NOTE_D5': 587, 'NOTE_DS5': 622, 'NOTE_E5': 659, 'NOTE_F5': 698, 'NOTE_FS5': 740, 'NOTE_G5': 784, 'NOTE_GS5': 831, 'NOTE_A5': 880, 'NOTE_AS5': 932, 'NOTE_B5': 988, 'NOTE_C6': 1047, 'NOTE_CS6': 1109, 'NOTE_D6': 1175, 'NOTE_DS6': 1245, 'NOTE_E6': 1319, 'NOTE_F6': 1397, 'NOTE_FS6': 1480, 'NOTE_G6': 1568, 'NOTE_GS6': 1661, 'NOTE_A6': 1760, 'REST': 0}\n"
     ]
    }
   ],
   "source": [
    "with open('PythonSerialController/notes.json', 'r') as f:\n",
    "    data = json.load(f)\n",
    "print(data)"
   ]
  },
  {
   "cell_type": "markdown",
   "metadata": {},
   "source": [
    "# Convertando para a forma q vai ser utilizado no PIC18F4520"
   ]
  },
  {
   "cell_type": "code",
   "execution_count": 33,
   "metadata": {},
   "outputs": [],
   "source": [
    "def convert_to_pic(melody, speed):\n",
    "    notes = melody[::2]\n",
    "    duration = np.ceil([(60000*4)/speed/10/i*(1 if i > 0 else -1.5) for i in map(int, melody[1::2])])\n",
    "\n",
    "    return notes, duration"
   ]
  },
  {
   "cell_type": "code",
   "execution_count": 34,
   "metadata": {},
   "outputs": [],
   "source": [
    "pacman_notes, pacman_duration = convert_to_pic(pacman_melody, 100)\n",
    "tetris_notes, tetris_duration = convert_to_pic(tetris_melody, 150)\n",
    "sw_notes, sw_duration = convert_to_pic(sw_melody, 125)"
   ]
  },
  {
   "cell_type": "code",
   "execution_count": 35,
   "metadata": {},
   "outputs": [
    {
     "data": {
      "text/plain": [
       "{12.0, 24.0, 36.0, 48.0, 72.0, 96.0, 192.0}"
      ]
     },
     "execution_count": 35,
     "metadata": {},
     "output_type": "execute_result"
    }
   ],
   "source": [
    "set(sw_duration)"
   ]
  },
  {
   "cell_type": "code",
   "execution_count": 36,
   "metadata": {},
   "outputs": [],
   "source": [
    "def test_song(notes, duration):\n",
    "    current_note = 0\n",
    "    note_time = 0\n",
    "    playing_note = False\n",
    "    pause_time = 0\n",
    "    while True:\n",
    "        if note_time > 0:\n",
    "            note_time -= 1\n",
    "        elif playing_note:\n",
    "            playing_note = False\n",
    "            current_sound.stop()\n",
    "        elif pause_time > 0:\n",
    "            pause_time -= 1\n",
    "        elif current_note == len(notes):\n",
    "            break\n",
    "        else:\n",
    "            current_sound = sounds[notes[current_note]]\n",
    "            current_sound.play()\n",
    "            note_time = duration[current_note]\n",
    "            playing_note = True\n",
    "            pause_time = int(duration[current_note]*0.1)\n",
    "            \n",
    "            current_note += 1\n",
    "        \n",
    "        time.sleep(0.01)"
   ]
  },
  {
   "cell_type": "code",
   "execution_count": 37,
   "metadata": {},
   "outputs": [],
   "source": [
    "test_song(pacman_notes, pacman_duration)"
   ]
  },
  {
   "cell_type": "code",
   "execution_count": 38,
   "metadata": {},
   "outputs": [],
   "source": [
    "test_song(tetris_notes, tetris_duration)"
   ]
  },
  {
   "cell_type": "code",
   "execution_count": 39,
   "metadata": {},
   "outputs": [],
   "source": [
    "test_song(sw_notes, sw_duration)"
   ]
  },
  {
   "cell_type": "markdown",
   "metadata": {},
   "source": [
    "# songs.h/songs.c"
   ]
  },
  {
   "cell_type": "code",
   "execution_count": 42,
   "metadata": {},
   "outputs": [],
   "source": [
    "names = ['pacman', 'tetris', 'sw']\n",
    "song_names = ['pacman', 'tetris', 'star wars']"
   ]
  },
  {
   "cell_type": "code",
   "execution_count": 41,
   "metadata": {},
   "outputs": [],
   "source": [
    "with open('songs.h', 'w') as f:\n",
    "    f.write(\"#ifndef SONGS_H\\n    #define SONGS_H\\n\\n\")\n",
    "\n",
    "    f.write(\"\"\"typedef struct {\n",
    "        unsigned char name[15];\n",
    "        unsigned char* size;\n",
    "        unsigned char* notes;\n",
    "        unsigned char* duration;\n",
    "    } Song;\\n\\n\"\"\")\n",
    "\n",
    "    f.write('    const unsigned int notes_freq[];\\n\\n')\n",
    "    \n",
    "    for name in names:\n",
    "        f.write(f'    Song {name}_song;;\\n')\n",
    "\n",
    "    f.write(\"#endif\")"
   ]
  },
  {
   "cell_type": "code",
   "execution_count": 45,
   "metadata": {},
   "outputs": [],
   "source": [
    "def write_array(f, arr, line):\n",
    "    for ele in arr:\n",
    "        if len(line) > 60:\n",
    "            f.write(line + '\\n')\n",
    "            line = '    '\n",
    "        line += ele + ', '\n",
    "    f.write(line[:-2] + '};\\n')\n",
    "\n",
    "with open('songs.c', 'w') as f:\n",
    "    f.write('#include \"songs.h\"\\n\\n')\n",
    "\n",
    "    write_array(f, notes.keys(),\n",
    "                'enum notes{')\n",
    "\n",
    "    f.write('\\n')\n",
    "\n",
    "    write_array(f, map(str, notes.values()),\n",
    "                'const unsigned int notes_freq = {')\n",
    "\n",
    "    f.write('\\n')\n",
    "\n",
    "    for name in names:\n",
    "        f.write(f\"const unsigned char {name}_song_size = {len(globals()[name + '_notes'])};\\n\")\n",
    "\n",
    "        write_array(f, globals()[name + '_notes'],\n",
    "                f'const unsigned char {name}_notes[] = ' + '{')\n",
    "\n",
    "        write_array(f, map(lambda x: str(int(x)), globals()[name + '_duration']),\n",
    "                f'const unsigned char {name}_duration[] = ' + '{')\n",
    "\n",
    "    f.write('\\n\\n')\n",
    "\n",
    "    for name, song_name in zip(names, song_names):\n",
    "        f.write(f\"\"\"Song {name}_song = {{\n",
    "    .name = \"{song_name}\",\n",
    "    .size = &{name}_song_size,\n",
    "    .notes = &{name}_notes,\n",
    "    .duration = &{name}_duration,\n",
    "}};\\n\\n\"\"\")\n",
    "\n",
    "        f.write('\\n')"
   ]
  }
 ],
 "metadata": {
  "interpreter": {
   "hash": "f52c718d4afce8610d830022b32f56c3bb7d480727d850998d8a1796c1fc8e0d"
  },
  "kernelspec": {
   "display_name": "Python 3.8.5 64-bit",
   "name": "python3"
  },
  "language_info": {
   "codemirror_mode": {
    "name": "ipython",
    "version": 3
   },
   "file_extension": ".py",
   "mimetype": "text/x-python",
   "name": "python",
   "nbconvert_exporter": "python",
   "pygments_lexer": "ipython3",
   "version": "3.8.5"
  },
  "orig_nbformat": 4
 },
 "nbformat": 4,
 "nbformat_minor": 2
}
